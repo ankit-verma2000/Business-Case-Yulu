{
 "cells": [
  {
   "cell_type": "code",
   "execution_count": 1,
   "id": "3754ffa6-fc3f-43c8-9f78-5a51995d757a",
   "metadata": {},
   "outputs": [],
   "source": [
    "import warnings\n",
    "warnings.filterwarnings('ignore')"
   ]
  },
  {
   "cell_type": "markdown",
   "id": "9170bb2c-f762-4072-9d92-698747d169b9",
   "metadata": {},
   "source": [
    "> # **About Yulu: 🚲**\n"
   ]
  },
  {
   "cell_type": "markdown",
   "id": "498ddd3f-176c-48b1-8828-e7c49357e95f",
   "metadata": {},
   "source": [
    "- Yulu Founded in 2017, Transforming urban communities.\n",
    "\n",
    "- Yulu is India’s leading micro-mobility service provider, which offers unique vehicles for the daily commute. Starting off as a mission to eliminate traffic congestion in India, Yulu provides the safest commute solution through a user-friendly mobile app to enable shared, solo and sustainable commuting.\n",
    "\n",
    "- Yulu zones are located at all the appropriate locations (including metro stations, bus stands, office spaces, residential areas, corporate offices, etc) to make those first and last miles smooth, affordable, and convenient!\n",
    "\n",
    "- Yulu has recently suffered considerable dips in its revenues.\n",
    "\n",
    "- They have contracted a consulting company to understand the factors on which the demand for these shared electric cycles depends. Specifically, they want to understand the factors affecting the demand for these shared electric cycles in the Indian market."
   ]
  },
  {
   "cell_type": "markdown",
   "id": "a403fd55-1005-4e0d-afd5-c13be2af7266",
   "metadata": {},
   "source": [
    "># **Business Problem:**"
   ]
  },
  {
   "cell_type": "markdown",
   "id": "bc3d5f98-7ccb-4c2e-9189-e49815d7a402",
   "metadata": {},
   "source": [
    "- Which variables are significant in predicting the demand for shared electric cycles in the Indian market ?\n",
    "\n",
    "- How well those variables describe the electric cycle demands."
   ]
  },
  {
   "cell_type": "markdown",
   "id": "6089b7f6-eb02-434e-8828-81ac2c4bf149",
   "metadata": {},
   "source": [
    "> # 📃 **Features of the dataset:**\n",
    "- Column Profiling:"
   ]
  },
  {
   "cell_type": "markdown",
   "id": "345bd41e-1c5d-413d-99e3-ddeeb57c306b",
   "metadata": {},
   "source": [
    " **Column Profiling:**\n",
    "\n",
    "| Feature | Description |\n",
    "|:--------|:------------|\n",
    "|datetime| datetime|  \n",
    "|season| season (1: spring, 2: summer, 3: fall, 4: winter)|\n",
    "|holiday| whether day is a holiday or not (extracted from http://dchr.dc.gov/page/holiday-schedule)|\n",
    "|workingday| if day is neither weekend nor holiday is 1, otherwise is 0.|\n",
    "|temp| temperature in Celsius|\n",
    "|atemp| feeling temperature in Celsius|\n",
    "|humidity| humidity|\n",
    "|windspeed| wind speed|\n",
    "|casual| count of casual users|\n",
    "|registered| count of registered users|\n",
    "|count - Total_riders| count of total rental bikes including both casual and registered|\n",
    "\n",
    "- weather : Feature with multiple categories, mentioned below:\n",
    "\n",
    "|Category|Details|\n",
    "|:------|:--------|\n",
    "|1| Clear, Few clouds, partly cloudy, partly cloudy|\n",
    "|2| Mist + Cloudy, Mist + Broken clouds, Mist + Few clouds, Mist|\n",
    "|3| Light Snow, Light Rain + Thunderstorm + Scattered clouds, Light Rain + Scattered clouds|\n",
    "|4| Heavy Rain + Ice Pallets + Thunderstorm + Mist, Snow + Fog|\n",
    "    \n"
   ]
  },
  {
   "cell_type": "markdown",
   "id": "f8085e7b-4119-48e3-9213-966c361649ff",
   "metadata": {},
   "source": [
    "## Importing necessary libraries"
   ]
  },
  {
   "cell_type": "code",
   "execution_count": null,
   "id": "c952d411-7ebd-401e-8310-303d68d6e860",
   "metadata": {},
   "outputs": [],
   "source": [
    "import numpy as np\n",
    "import pandas as pd\n",
    "import matplotlib.pyplot as plt\n",
    "# %matplotlib inline\n",
    "import seaborn as sns\n",
    "\n",
    "from scipy.stats import norm,zscore,boxcox,probplot\n",
    "from statsmodels.stats import weightstats as stests\n",
    "from statsmodels.stats.proportion import proportions_ztest\n",
    "from scipy.stats import ttest_ind,ttest_rel,ttest_1samp,mannwhitneyu\n",
    "from scipy.stats import chisquare,chi2,chi2_contingency\n",
    "from scipy.stats import f_oneway,kruskal,shapiro,levene,kstest\n",
    "from scipy.stats import pearsonr,spearmanr\n",
    "import statsmodels.api as sm\n",
    "from statsmodels.formula.api import ols\n",
    "from sklearn.preprocessing import StandardScaler\n",
    "from sklearn.preprocessing import MinMaxScaler\n"
   ]
  },
  {
   "cell_type": "code",
   "execution_count": null,
   "id": "095359a0-60f0-41ae-9170-3d7786e6a80c",
   "metadata": {},
   "outputs": [],
   "source": [
    "yulu_data = pd.read_csv('Downloads/bike_sharing.csv')"
   ]
  },
  {
   "cell_type": "markdown",
   "id": "0b3b6166-d5bc-4ee4-8b02-b6da425c0f02",
   "metadata": {},
   "source": [
    "# **Basic Analysis:**"
   ]
  },
  {
   "cell_type": "markdown",
   "id": "985f6868-a9e2-44d9-8098-fff6a557189c",
   "metadata": {},
   "source": [
    "> ### Make copy of data and do analysis: "
   ]
  },
  {
   "cell_type": "code",
   "execution_count": null,
   "id": "7849f446-ab23-4278-9793-473bb0fb3191",
   "metadata": {},
   "outputs": [],
   "source": [
    "data = yulu_data.copy()"
   ]
  },
  {
   "cell_type": "markdown",
   "id": "a846ae3c-ae38-41d4-b425-8c1eb80e1a99",
   "metadata": {},
   "source": [
    "> ### Shape of the data"
   ]
  },
  {
   "cell_type": "code",
   "execution_count": null,
   "id": "26d64861-bd5f-4d83-89d7-a1a74a2f5e64",
   "metadata": {},
   "outputs": [],
   "source": [
    "print('Number of Observations in yulu data:', data.shape[0])\n",
    "print('Number of Features in yulu data:', data.shape[1])"
   ]
  },
  {
   "cell_type": "markdown",
   "id": "50ae7e73-dff6-49a4-9723-419e827f35cc",
   "metadata": {},
   "source": [
    ">### Data-type of all attributes or concise summary"
   ]
  },
  {
   "cell_type": "code",
   "execution_count": null,
   "id": "8f782dc4-7eb1-4886-aaa9-cfa052dd9230",
   "metadata": {},
   "outputs": [],
   "source": [
    "data.info()"
   ]
  },
  {
   "cell_type": "markdown",
   "id": "de5fad66-1b09-4b02-b68b-2e4af97fa74d",
   "metadata": {},
   "source": [
    "**Inference:**\n",
    "\n",
    "* There are no missing values in the dataframe.\n",
    "* All the columns execpt datetime are numerical columns.\n",
    "\n",
    "* 'datetime' attribute is of object type, we should convert it to datetime type.\n",
    "* There are various categorical columns (season, holiday, workingday, weather) that appear to be integer type, we should convert them to categorical type."
   ]
  },
  {
   "cell_type": "code",
   "execution_count": null,
   "id": "7de65f48-ef12-4ea5-b3b8-aa333344cf6a",
   "metadata": {},
   "outputs": [],
   "source": [
    "data.duplicated().sum()"
   ]
  },
  {
   "cell_type": "markdown",
   "id": "2aedf866-0d66-4273-892f-09273208d2b0",
   "metadata": {},
   "source": [
    "#### Insights:\n",
    "\n",
    "- There are 10886 rows and 12 columns in our data.\n",
    "- There are no null values.\n",
    "- There are also no duplicate values.\n",
    "- The columns \"datetime\" are in object datatype which need to be corrected.\n",
    "- The columns \"season\", \"holiday\", \"workingday\", \"weather\", \"humidity\", \"casual\", \"registered\" and \"total_riders\" are in int datatype.\n",
    "- The columns \"temp\", \"atemp\", and \"windspeed\" are in float datatype."
   ]
  },
  {
   "cell_type": "markdown",
   "id": "e9273429-1f72-4779-99c2-c945a0130cef",
   "metadata": {},
   "source": [
    "> ### Columns in a Dataframe"
   ]
  },
  {
   "cell_type": "code",
   "execution_count": null,
   "id": "7ad513b1-e90c-455b-ae79-0ab4d7a65b48",
   "metadata": {},
   "outputs": [],
   "source": [
    "data.columns"
   ]
  },
  {
   "cell_type": "markdown",
   "id": "e8136ca4-e115-4e06-95da-0b3b2b9c9353",
   "metadata": {},
   "source": [
    "## **Skewness Analysis**"
   ]
  },
  {
   "cell_type": "code",
   "execution_count": null,
   "id": "0f3a2320-c8de-4b71-8bda-fbc4c2560325",
   "metadata": {},
   "outputs": [],
   "source": [
    "data.skew(numeric_only = True)"
   ]
  },
  {
   "cell_type": "markdown",
   "id": "fa6bbec0-3450-41bd-be60-57fabd0d9b1b",
   "metadata": {},
   "source": [
    "#### Insights:\n",
    "\n",
    "* Symmetrical Majority or Zero skewness:\n",
    "    - Variables, like season and temp, are having skewness values close to zero, indicating ther is relatively symmetrical distributions.\n",
    ">   \n",
    "* Positive Skewness Insights:\n",
    "    - Variables such as holiday, weather, windspeed, casual, registered, and bike_count demonstrate positive skewness, pointing to a concentration of lower values and a right skewed in their distributions.   \n",
    "> \n",
    "* Negative Skewness Observations:\n",
    "    - Variables like workingday, atemp, and humidity exhibit negative skewness, implying a concentration of higher values and a left skewed in their distributions.\n"
   ]
  },
  {
   "cell_type": "markdown",
   "id": "cbb47798-531a-48ba-bfdf-310c5c77a315",
   "metadata": {},
   "source": [
    "> ### **Statistical Summary:**"
   ]
  },
  {
   "cell_type": "code",
   "execution_count": null,
   "id": "0ac20797-41c7-459c-acab-9268325945f8",
   "metadata": {},
   "outputs": [],
   "source": [
    "data.describe(include= 'object').T"
   ]
  },
  {
   "cell_type": "markdown",
   "id": "17c7193a-7b8a-4746-8b33-d887eab2aa47",
   "metadata": {},
   "source": [
    "### Statistical Summary of Numeric columns"
   ]
  },
  {
   "cell_type": "code",
   "execution_count": null,
   "id": "054bdbd7-8a74-419d-8dd8-415401de2879",
   "metadata": {},
   "outputs": [],
   "source": [
    "data.describe().T"
   ]
  },
  {
   "cell_type": "markdown",
   "id": "2cf4666b-8589-4522-b765-027cfb600252",
   "metadata": {},
   "source": [
    "#### Insights:\n",
    "\n",
    "* We don't see a significant difference between mean and median for the independent variables such as temp, atemp, humidity and windspeed.\n",
    "* This suggests a lesser presence of outliers or skewness for these variables, but we can't be sure. We will further check for outliers using box plot.\n",
    "* It's difficult to comment on distribution of the dependent variables, count of casual and registered users leverging the shared mobility service. * We will revisit it through visual plots."
   ]
  },
  {
   "cell_type": "markdown",
   "id": "03e24edd-dd12-4584-ac20-3d7b4845b29d",
   "metadata": {},
   "source": [
    "## Exploratory data analysis:"
   ]
  },
  {
   "cell_type": "markdown",
   "id": "3382c368-a360-4549-a90f-b71c84ac0a3b",
   "metadata": {},
   "source": [
    "> ### Non-Graphical Analysis: Value counts and unique attributes"
   ]
  },
  {
   "cell_type": "code",
   "execution_count": null,
   "id": "60c96fce-bc39-436d-bb56-ca4c9b07b1a9",
   "metadata": {},
   "outputs": [],
   "source": [
    "data.nunique()"
   ]
  },
  {
   "cell_type": "markdown",
   "id": "f0e95b34-e713-42d1-a13c-06da5a4122f0",
   "metadata": {},
   "source": [
    "> ### Value Counts in each features:"
   ]
  },
  {
   "cell_type": "code",
   "execution_count": null,
   "id": "a55e7002-3bf4-41b0-91ef-64edda7e7338",
   "metadata": {
    "scrolled": true
   },
   "outputs": [],
   "source": [
    "for col in data.columns:\n",
    "    value_count=data[col].value_counts(normalize=True)*100\n",
    "    print(f\"----Value counts of {col} column ---- \")\n",
    "    print()\n",
    "    print(value_count.round(2))\n",
    "    print()\n",
    "    print()"
   ]
  },
  {
   "cell_type": "markdown",
   "id": "de188066-72fb-4f0f-93b8-d8404380fcab",
   "metadata": {},
   "source": [
    "# Data Preprocessing:"
   ]
  },
  {
   "cell_type": "markdown",
   "id": "27222e44-3210-447c-80eb-ea2ff1d46b5c",
   "metadata": {},
   "source": [
    "> ### Handling missing values"
   ]
  },
  {
   "cell_type": "code",
   "execution_count": null,
   "id": "6232e9de-85e4-4232-92c8-affd1807c4da",
   "metadata": {},
   "outputs": [],
   "source": [
    "data.isna().sum()"
   ]
  },
  {
   "cell_type": "code",
   "execution_count": null,
   "id": "43f36dc6-1742-417d-af9a-98d98ed34064",
   "metadata": {},
   "outputs": [],
   "source": [
    "plt.figure(figsize=(20,6))\n",
    "\n",
    "plt.style.use('dark_background')\n",
    "sns.heatmap(data.isnull(), cmap='Purples')\n",
    "plt.title('Visual Check for Null value', fontsize = 20, color = 'green')\n",
    "plt.show()"
   ]
  },
  {
   "cell_type": "markdown",
   "id": "28984149-6e2c-4173-93ae-333b75105475",
   "metadata": {},
   "source": [
    "**Inference:**\n",
    "\n",
    "* There are no missing values in a given dataset."
   ]
  },
  {
   "cell_type": "markdown",
   "id": "0f82f125-9d65-4fb5-a806-3cd57c33431f",
   "metadata": {},
   "source": [
    "> ### Data-type conversion: "
   ]
  },
  {
   "cell_type": "code",
   "execution_count": null,
   "id": "a4099755-a092-4334-a8ce-1994994e6660",
   "metadata": {},
   "outputs": [],
   "source": [
    "# Converting datetime column to type datetime from object type:\n",
    "data['datetime'] = pd.to_datetime(data.datetime)"
   ]
  },
  {
   "cell_type": "code",
   "execution_count": null,
   "id": "48fa65d3-8016-4871-b365-708d5cb1bf24",
   "metadata": {},
   "outputs": [],
   "source": [
    "# Converting season column from numerical to categorical:\n",
    "def season_type(x):\n",
    "    if x==1:\n",
    "        return 'spring'\n",
    "    elif x==2:\n",
    "        return 'summer'\n",
    "    elif x==3:\n",
    "        return 'fall'\n",
    "    else:\n",
    "        return 'winter'\n",
    "\n",
    "data['season'] = data['season'].apply(lambda x:season_type(x))"
   ]
  },
  {
   "cell_type": "code",
   "execution_count": null,
   "id": "d33cf99e-a5cf-4d95-9af6-b71c24f9f9ba",
   "metadata": {},
   "outputs": [],
   "source": [
    "# Converting season,weather,holiday and workingday columns into categorical:\n",
    "data['season']= pd.Categorical(data['season'])\n",
    "data['weather']=pd.Categorical(data['weather'])\n",
    "data['holiday']=pd.Categorical(data['holiday'])\n",
    "data['workingday']=pd.Categorical(data['workingday'])"
   ]
  },
  {
   "cell_type": "code",
   "execution_count": null,
   "id": "51ec547d-77ab-458e-9d50-5c80acf2b9bf",
   "metadata": {},
   "outputs": [],
   "source": [
    "# Statistical Summary after data-type conversion\n",
    "print('Statistical Summary of categorical col:',data.describe(include='category').T)\n",
    "print()\n",
    "print('-'*100)\n",
    "print()\n",
    "print('Statistical Summary of all col:',data.describe().T)"
   ]
  },
  {
   "cell_type": "markdown",
   "id": "0887176e-fc4e-4dcd-9ee6-4b445141ba0d",
   "metadata": {},
   "source": [
    "> ### Handling outliers\n",
    "\n",
    "* Outlier detection using the z-score method\n",
    "\n",
    "* One of method to detect outliers in numeric column using the z-score.\n",
    "* If the z score of a data point is more than 3, it indicates that the data point is quite different from the other data points. Such a data point can be an outlier.\n",
    "\n",
    "**z score= (x-mean)/std.deviation**"
   ]
  },
  {
   "cell_type": "code",
   "execution_count": null,
   "id": "fe1f2e78-7ded-41d7-a500-e766982bcaf7",
   "metadata": {},
   "outputs": [],
   "source": [
    "outliers={}\n",
    "for col in data.select_dtypes(include = np.number):\n",
    "    #finding z-score for each value in a column\n",
    "    z_score= np.abs((data[col]-data[col].mean()))/data[col].std()\n",
    "    \n",
    "    # if the z score of a value is a grater than 3 than the value is outlier\n",
    "    column_outliers = data[z_score > 3][col]\n",
    "    \n",
    "    outliers[col] = column_outliers\n",
    "    \n",
    "for col,outlier_values in outliers.items():\n",
    "    print(f\"Outliers for {col} column\")\n",
    "    print(outlier_values)\n",
    "    print('-'*50)\n",
    "    print()"
   ]
  },
  {
   "cell_type": "markdown",
   "id": "701a8fe1-0ea4-4010-a697-f015020b200c",
   "metadata": {},
   "source": [
    "**Inferences:**\n",
    "\n",
    "* There were no outliers present in the 'temp' and 'atemp' column.\n",
    "* Outliers are evident within the 'humidity' and 'windspeed' columns based on the observations.\n",
    "* Outliers are noticeable in the counts of casual and registered users, though drawing definite conclusions necessitates analyzing their relationship with independent variables.."
   ]
  },
  {
   "cell_type": "markdown",
   "id": "ed35be72-7d20-4221-aa59-1480b0fcc135",
   "metadata": {},
   "source": [
    "# Univariate Analysis:"
   ]
  },
  {
   "cell_type": "markdown",
   "id": "bdfc8ffb-d39f-4d07-9727-6140548cf8fd",
   "metadata": {},
   "source": [
    "> ### Plot Boxplot for detecting Outliers:"
   ]
  },
  {
   "cell_type": "code",
   "execution_count": null,
   "id": "7affcc91-0fd2-4732-8c77-6ced83b23ec8",
   "metadata": {
    "scrolled": true
   },
   "outputs": [],
   "source": [
    "plt.style.use('ggplot')\n",
    "num_col = data.select_dtypes(include=np.number)\n",
    "# Box plot:\n",
    "for col in num_col:\n",
    "    plt.subplot()\n",
    "    sns.boxplot(data = data, x = col)\n",
    "    plt.title(f'Distribution of {col}',fontname='Franklin Gothic Medium', fontsize=15)\n",
    "    plt.grid(True)\n",
    "    plt.show()"
   ]
  },
  {
   "cell_type": "markdown",
   "id": "8911e9be-7f2d-4368-b0e6-e12006a4c4c6",
   "metadata": {},
   "source": [
    "**Inference:**\n",
    "\n",
    "* No outliers are detected in the 'temp' and 'atemp' columns, suggesting that the temperature-related data points fall within the expected range.\n",
    "* In the 'humidity' column, a single value is identified as an outlier, implying an unusual humidity measurement distinct from the others.\n",
    "* The 'windspeed' column contains 12 outlier values, indicating instances where wind speed measurements significantly deviate from the typical range.\n",
    "* The box plot clearly indicates the presence of outliers in the number of casual and registered users.\n",
    "* The box plot reveal data skewness.\n",
    "* As we proceed, we will decide whether to address outliers or perform variable transformation. In this case, given the significant number of outliers, variable transformation, specifically Log Transformation, seems to be a more appropriate approach."
   ]
  },
  {
   "cell_type": "markdown",
   "id": "ba4f597a-93ae-434c-97e9-5ab7cb8daeb3",
   "metadata": {},
   "source": [
    "> ### Distribution of Working day:"
   ]
  },
  {
   "cell_type": "code",
   "execution_count": null,
   "id": "bbfa0d47-19f1-4e8f-9ead-8fac7f94d2b7",
   "metadata": {},
   "outputs": [],
   "source": [
    "plt.style.use('default')\n",
    "workingday_df = data.groupby(['workingday']).agg(number_of_cycles_rented=('workingday', 'count')).reset_index()\n",
    "print(workingday_df)\n",
    "print()\n",
    "\n",
    "labels = workingday_df['workingday']\n",
    "values = workingday_df['number_of_cycles_rented']\n",
    "\n",
    "plt.figure(figsize=(10, 4))\n",
    "\n",
    "# Bar plot\n",
    "plt.subplot(121)\n",
    "sns.countplot(data=data, x='workingday', palette='viridis')\n",
    "plt.title('Count of Cycles Rented by Working Day',fontname='Franklin Gothic Medium', fontsize=15)\n",
    "\n",
    "# Pie chart\n",
    "plt.subplot(122)\n",
    "plt.pie(x=values, labels=labels, autopct='%1.1f%%', colors=sns.color_palette('viridis', len(labels)))\n",
    "plt.title('Proportion of Cycles Rented by Working Day',fontname='Franklin Gothic Medium', fontsize=15)\n",
    "\n",
    "plt.tight_layout()\n",
    "plt.show()\n"
   ]
  },
  {
   "cell_type": "markdown",
   "id": "646dc787-81e1-4617-b8d4-4573cca1b930",
   "metadata": {},
   "source": [
    "**Insight:**\n",
    "\n",
    "* On working days, 68.1% of cycles are rented, whereas on non-working days, 31.9% of cycles are rented."
   ]
  },
  {
   "cell_type": "markdown",
   "id": "ecced1df-9d15-416e-8640-db69afe4a2c8",
   "metadata": {},
   "source": [
    "> ### Distribution of Season:"
   ]
  },
  {
   "cell_type": "code",
   "execution_count": null,
   "id": "79c74e69-68d4-4d3e-b122-a35946d3269b",
   "metadata": {},
   "outputs": [],
   "source": [
    "data.columns"
   ]
  },
  {
   "cell_type": "code",
   "execution_count": null,
   "id": "ccc2d2f7-0af0-440b-a39c-eb8009c331ac",
   "metadata": {},
   "outputs": [],
   "source": [
    "season_df = data.groupby(['season']).agg(number_of_cycles_rented = ('season', 'count')).reset_index()\n",
    "print(season_df)\n",
    "print()\n",
    "\n",
    "labels = season_df['season']\n",
    "values = season_df['number_of_cycles_rented']\n",
    "\n",
    "plt.figure(figsize=(10, 4))\n",
    "\n",
    "# Bar plot\n",
    "plt.subplot(121)\n",
    "sns.countplot(data = data, x='season', palette='viridis')\n",
    "plt.title('Count of Cycles Rented by for season',fontname='Franklin Gothic Medium', fontsize=15)\n",
    "\n",
    "# Pie chart\n",
    "plt.subplot(122)\n",
    "plt.pie(x = values, labels=labels, autopct='%1.1f%%', colors = sns.color_palette('viridis', len(labels)))\n",
    "plt.title('Proportion of Cycles Rented by each season',fontname='Franklin Gothic Medium', fontsize=15)\n",
    "\n",
    "plt.tight_layout()\n",
    "plt.show()\n"
   ]
  },
  {
   "cell_type": "markdown",
   "id": "882770df-43e7-4fd8-ae65-65f3a1f29b5a",
   "metadata": {},
   "source": [
    "**Insights:**\n",
    "* During the fall, summer and winter seasons approximately 25.1% of cycles were rented(respectively).\n",
    "* The lowest rental rate(In comparison with other seasons), 24.7% of cycles were rented,is observed in the spring season."
   ]
  },
  {
   "cell_type": "markdown",
   "id": "0cb70a60-aee8-40fe-8e37-7eeed3ad9765",
   "metadata": {},
   "source": [
    "> ### Distribution of Weather"
   ]
  },
  {
   "cell_type": "code",
   "execution_count": null,
   "id": "8e536776-7c7c-4cee-81db-9f5e9be4e1d8",
   "metadata": {},
   "outputs": [],
   "source": [
    "weather_df = data.groupby(['weather']).agg(number_of_cycles_rented = ('weather', 'count')).reset_index()\n",
    "print(weather_df)\n",
    "print()\n",
    "\n",
    "labels = weather_df['weather']\n",
    "values = weather_df['number_of_cycles_rented']\n",
    "\n",
    "plt.figure(figsize=(12, 4))\n",
    "\n",
    "# Bar plot\n",
    "plt.subplot(121)\n",
    "sns.countplot(data = data, x='weather', palette='viridis')\n",
    "plt.title('Count of Cycles Rented as per weather condition',fontname='Franklin Gothic Medium', fontsize=15)\n",
    "\n",
    "# Pie chart\n",
    "plt.subplot(122)\n",
    "plt.pie(x = values, labels=labels, autopct='%1.1f%%', colors = sns.color_palette('viridis', len(labels)))\n",
    "plt.title('Proportion of Cycles Rented as per weather condition',fontname='Franklin Gothic Medium', fontsize=15)\n",
    "\n",
    "plt.tight_layout()\n",
    "plt.show()\n"
   ]
  },
  {
   "cell_type": "markdown",
   "id": "0bbf8e8c-3762-44db-89f3-457243c65ae6",
   "metadata": {},
   "source": [
    "**Insights:**\n",
    "\n",
    "* In Weather condition 1 experiences the highest rental rate, with approximately 66% of cycles rented.\n",
    "* In weather condition 2, around 26.0% of cycles were rented.\n",
    "* Weather condition 3 has a rental rate of approximately 7.9 % for cycles.\n",
    "* Weather condition 4 exhibits an exceptionally low rental rate, with only 0.0% of cycles being rented(In count 1)."
   ]
  },
  {
   "cell_type": "markdown",
   "id": "e45d8038-af36-4398-a4d6-65a5742ee0e3",
   "metadata": {},
   "source": [
    "> ### Hourly Trends in Average Cycle Rentals:"
   ]
  },
  {
   "cell_type": "code",
   "execution_count": null,
   "id": "3a5ac0b4-f38c-4aa1-940a-0be5bf3c01de",
   "metadata": {},
   "outputs": [],
   "source": [
    "hour_df =data.groupby(data['datetime'].dt.hour).agg(average_cycles_rented = ('count','mean')).reset_index()\n",
    "hour_df.head()"
   ]
  },
  {
   "cell_type": "code",
   "execution_count": null,
   "id": "d27d82ae-6971-4144-8e91-dd891b0513d2",
   "metadata": {},
   "outputs": [],
   "source": [
    "plt.figure(figsize=(10, 5))\n",
    "sns.lineplot(data=hour_df, x='datetime', y='average_cycles_rented', marker='o', color='green')\n",
    "plt.title('Average Cycles Rented Per Hour', fontsize=16, fontweight='bold')\n",
    "plt.xlabel('Hour of the Day', fontsize=14)\n",
    "plt.ylabel('Average Cycles Rented', fontsize=14)\n",
    "plt.grid(visible=True, linestyle='--', linewidth=0.5)\n",
    "plt.xticks(range(0, 24))  # Assuming hours are 0-23\n",
    "plt.yticks()\n",
    "plt.show()"
   ]
  },
  {
   "cell_type": "markdown",
   "id": "b85b7edb-e80b-4c08-bc38-24e3ed76da0e",
   "metadata": {},
   "source": [
    "**Insights:**\n",
    "\n",
    "* The highest average count of rental bikes is observed at 5 PM, closely followed by 5 PM and 7 AM. This indicates distinct peak hours during the day when cycling is most popular.\n",
    "* Conversely, the lowest average count of rental bikes occurs at 4 AM, with 3 AM and 5 AM also showing low counts. These hours represent the early morning period with the least demand for cycling.\n",
    "Notably, there is an increasing trend in cycle rentals between 5 AM and 8 AM, suggesting a surge in demand during the early morning hours as people start their day.\n",
    "* Additionally, there is a decreasing trend in cycle rentals from 5 PM to 11 PM, indicating a gradual decline in demand as the day progresses into the evening and nighttime."
   ]
  },
  {
   "cell_type": "markdown",
   "id": "2deba2bc-482f-4c4a-aaaa-2d0533181846",
   "metadata": {},
   "source": [
    "> ### Montly trend in average cycle rentals"
   ]
  },
  {
   "cell_type": "code",
   "execution_count": null,
   "id": "6545f891-0775-4d3e-b7de-440fae51d2dd",
   "metadata": {},
   "outputs": [],
   "source": [
    "month_df = data.groupby(data['datetime'].dt.month_name()).agg(average_cycles_rented = ('count','mean')).reset_index()\n",
    "month_df.head()"
   ]
  },
  {
   "cell_type": "code",
   "execution_count": null,
   "id": "0b1b3ee0-a842-4f08-bd43-49381af3d1cc",
   "metadata": {},
   "outputs": [],
   "source": [
    "plt.figure(figsize=(10, 5))\n",
    "sns.lineplot(data = month_df, x ='datetime', y ='average_cycles_rented', marker='o', color='cyan')\n",
    "plt.title('Average Cycles Rented on monthly basis', fontsize=16, fontweight='bold')\n",
    "plt.xlabel('Month', fontsize=14)\n",
    "plt.ylabel('Average Cycles Rented', fontsize=14)\n",
    "plt.grid(visible=True, linestyle='--', linewidth=0.5)\n",
    "plt.xticks(rotation = 90)  # Assuming hours are 0-23\n",
    "plt.yticks()\n",
    "plt.show()"
   ]
  },
  {
   "cell_type": "markdown",
   "id": "3e5da843-518a-4a3a-ae94-7768fac3fb26",
   "metadata": {},
   "source": [
    "**Insights:**\n",
    "\n",
    "* The highest average hourly count of rental bikes occurs in June, July, and August, reflecting the peak demand during summer season.\n",
    "* Conversely, the lowest average hourly count of rental bikes is found in January, February, and March, which are the winter months with reduced cycling activity.\n",
    "* Notably, there is an increasing trend in average bike rentals from February to June, corresponding to the shift from winter to spring and summer.\n",
    "Conversely, a decreasing trend in average bike rentals is observed from October to December due to the onset of winter."
   ]
  },
  {
   "cell_type": "markdown",
   "id": "921bc77e-5ba7-42d6-b84c-0086a100e662",
   "metadata": {},
   "source": [
    "# Bivariate Analysis:\n",
    "> ### Distribution of count of rented bikes across working day"
   ]
  },
  {
   "cell_type": "code",
   "execution_count": null,
   "id": "77a3a8e4-f803-447b-a8fb-9acf1aa79d75",
   "metadata": {},
   "outputs": [],
   "source": [
    "plt.figure(figsize=(15,5))\n",
    "# KDE plot\n",
    "plt.subplot(1,2,1)\n",
    "sns.set_style('darkgrid')\n",
    "sns.kdeplot(data=data,x='count',hue='workingday',palette = sns.color_palette(\"dark\"))\n",
    "plt.xlabel('Number of rented bikes')\n",
    "plt.ylabel('Probablity Density')\n",
    "\n",
    "# Box plot\n",
    "plt.subplot(1,2,2)\n",
    "sns.boxplot(data=data,y='count',x='workingday',palette = sns.color_palette(\"dark\"))\n",
    "plt.xlabel('Working day')\n",
    "plt.ylabel('Number of bikes rented')\n",
    "\n",
    "plt.suptitle('Distribution of number of rented bikes across Working Day')\n",
    "plt.show()"
   ]
  },
  {
   "cell_type": "markdown",
   "id": "2bf3b1ea-4f44-4ee5-9790-c91fbb35c681",
   "metadata": {},
   "source": [
    "> ### Distribution of count of rented bikes across Season"
   ]
  },
  {
   "cell_type": "code",
   "execution_count": null,
   "id": "f3d893cb-2f21-49a9-985d-d882467ba40b",
   "metadata": {},
   "outputs": [],
   "source": [
    "plt.figure(figsize=(15,5))\n",
    "plt.suptitle('Distribution of number of rented bikes across Season')\n",
    "# KDE plot\n",
    "plt.subplot(1,2,1)\n",
    "sns.set_style('darkgrid')\n",
    "sns.kdeplot(data = data,x = 'count',hue='season', palette = sns.color_palette(\"tab10\"))\n",
    "plt.xlabel('Number of rented bikes')\n",
    "plt.ylabel('Probablity Density')\n",
    "\n",
    "# Box plot\n",
    "plt.subplot(1,2,2)\n",
    "sns.boxplot(data=data,y='count',x = 'season',palette=sns.color_palette(\"tab10\"))\n",
    "plt.xlabel('Season')\n",
    "plt.ylabel('Number of bikes rented')\n",
    "\n",
    "plt.show()"
   ]
  },
  {
   "cell_type": "markdown",
   "id": "900d0ca3-ad1f-479f-a7a0-13d286995bc0",
   "metadata": {},
   "source": [
    ">### Distribution of count of rented bikes across Weather types"
   ]
  },
  {
   "cell_type": "code",
   "execution_count": null,
   "id": "9ed34706-62dd-40ca-ab8f-52b29e95c2fa",
   "metadata": {},
   "outputs": [],
   "source": [
    "plt.figure(figsize=(15,5))\n",
    "plt.suptitle('Distribution of number of rented bikes across Weather types')\n",
    "# KDE plot\n",
    "plt.subplot(1,2,1)\n",
    "sns.set_style('darkgrid')\n",
    "sns.kdeplot(data=data,x='count',hue='weather',palette=sns.color_palette(\"dark\"))\n",
    "plt.xlabel('Number of rented bikes')\n",
    "plt.ylabel('Probablity Density')\n",
    "\n",
    "# Box plot\n",
    "plt.subplot(1,2,2)\n",
    "sns.boxplot(data=data,y='count',x='weather',palette=sns.color_palette(\"dark\"))\n",
    "plt.xlabel('Weather type')\n",
    "plt.ylabel('Number of bikes rented')\n",
    "\n",
    "plt.show()"
   ]
  },
  {
   "cell_type": "markdown",
   "id": "82c50af2-2d51-44ad-9e6e-d07c51167d45",
   "metadata": {},
   "source": [
    "# Heatmap"
   ]
  },
  {
   "cell_type": "code",
   "execution_count": null,
   "id": "163e6d7e-85f6-49c4-a339-e6f2db51835e",
   "metadata": {},
   "outputs": [],
   "source": [
    "data.columns"
   ]
  },
  {
   "cell_type": "code",
   "execution_count": null,
   "id": "fff90250-1438-4783-b82a-a9f159a163ae",
   "metadata": {},
   "outputs": [],
   "source": [
    "\n",
    "sns.heatmap(data[['temp','atemp','humidity','windspeed','registered','count','casual']].corr(),annot=True,cmap='rocket',fmt='.2f')\n",
    "plt.show()"
   ]
  },
  {
   "cell_type": "markdown",
   "id": "4f7a80bd-4b26-4d0b-8539-54f4809f0e02",
   "metadata": {},
   "source": [
    "**Insights:**\n",
    "\n",
    "* The weak positive correlation of 0.39 between temperature and the number of bikes rented suggests that, on average, fewer people prefer to use electric cycles during the daytime between 12 PM to 3 PM. This observation aligns with our univariate analysis, where we discovered that the average number of cycles rented during this time frame was lower compared to other times of the day. A similar correlation pattern is also observed in the case of \"feels-like\" temperature, reinforcing this trend.\n",
    "* The negative correlation between humidity and the number of cycles rented indicates that people tend to avoid using electric bikes during high humidity conditions. This avoidance can be attributed to the discomfort caused by the heavy and sticky air, leading to sweating and a general sense of unease. Moreover, the reduced efficiency of electric bikes in high humidity, resulting in increased air resistance and potential battery performance issues, contributes to the preference for alternative transportation or indoor activities in such conditions.\n",
    "* The presence of a weak positive correlation between windspeed and the number of cycles rented indicates that there is a subset of individuals who appear to favor using electric cycles during windy conditions for the sheer enjoyment of the experience. While this preference contributes to a slight increase in bike rentals on windier days, it's essential to recognize that this effect is not particularly strong, as indicated by the weak correlation. This suggests that the enjoyment of cycling in windy conditions is a relatively niche preference among riders."
   ]
  },
  {
   "cell_type": "markdown",
   "id": "0ef1bb1f-6586-43c1-872a-c36ac1ef45cb",
   "metadata": {},
   "source": [
    "# Hypothesis Testing:\n",
    ">## Does Working day has an effect on the number of bikes rented ?"
   ]
  },
  {
   "cell_type": "code",
   "execution_count": null,
   "id": "7c20af63-992e-4387-af19-fba4093104a0",
   "metadata": {},
   "outputs": [],
   "source": [
    "# import necessary library for hypothesis test\n",
    "from scipy.stats import chi2 # Distribution (cdf etc.)\n",
    "from scipy.stats import chisquare # Perform a chi-square test for goodness of fit.\n",
    "from scipy.stats import chi2_contingency # Categorical Vs Categorical\n",
    "from scipy.stats import ttest_rel,ttest_1samp,ttest_ind # Perform a paired (dependent),Perform a one-sample t-test, Perform an independent (two-sample) t-test.\n",
    "from scipy.stats import binom # Access binomial distribution functions (e.g., PMF, CDF).\n",
    "\n",
    "'''\n",
    "F-Test and ANOVA\n",
    "f: Access the F-distribution functions.\n",
    "f_oneway: Perform a one-way ANOVA test.\n",
    "kruskal: Perform the Kruskal-Wallis H-test for independent samples.\n",
    "levene: Test for equality of variances across samples.\n",
    "\n",
    "Normality Tests\n",
    "shapiro: Perform the Shapiro-Wilk test for normality.\n",
    "kstest: Perform the Kolmogorov-Smirnov test for goodness of fit.\n",
    "norm: Access normal distribution functions (e.g., PDF, CDF).\n",
    "'''\n",
    "\n",
    "from scipy.stats import f,f_oneway,kruskal,ttest_ind,levene,shapiro,kstest,norm\n",
    "from statsmodels.distributions.empirical_distribution import ECDF\n",
    "from statsmodels.graphics.gofplots import qqplot # Create a quantile-quantile plot to compare distributions\n"
   ]
  },
  {
   "cell_type": "markdown",
   "id": "610fa41b-4e71-4761-acd3-cf0e09d57037",
   "metadata": {},
   "source": [
    "**Formulating Null and Alternative Hypotheses**\n",
    "\n",
    "To answer the above question we first set up Null and Alternate Hypothesis:\n",
    "\n",
    "**H0: WORKING DAY HAS NO EFFECT ON THE NUMBER OF CYCLES RENTED**\n",
    "\n",
    "**H1: WORKING DAY HAS AN EFFECT ON THE NUMBER OF CYCLES RENTED**\n",
    "\n",
    "**Solution: To test the above hypothesis, we use Two sample T Test**\n",
    "\n",
    "## **Assumptions of a T Test**\n",
    "1. Independence : The observations in one sample are independent of the observations in the other sample.\n",
    "2. Normality : Both samples are approximately normally distributed.\n",
    "3. Homogenity of Variances : Both samples have approximately the same variance.\n",
    "4. Random Sampling : Both samples were obtained using random sampling method.\n",
    "\n",
    "### **Normality Check: Wilkin Shapiron Test**\n",
    "* To conduct the above experiment, we shall take the samples randomly, and also the number of electric cyles rented on Working day and non working day are independent.\n",
    "* We however have to check for Normality and homogenity of Variances\n",
    "* Generate a sample of 300 bike rentals, randomly selected from both working days and non-working days"
   ]
  },
  {
   "cell_type": "code",
   "execution_count": null,
   "id": "a29ff1ff-72bf-45f6-ac20-e8c3d5eb302e",
   "metadata": {},
   "outputs": [],
   "source": [
    "workingday_sample = data[data['workingday']==1]['count'].sample(300)\n",
    "nonworkingday_sample = data[data['workingday']==0]['count'].sample(300)"
   ]
  },
  {
   "cell_type": "code",
   "execution_count": null,
   "id": "75133798-381c-405b-98db-d0f561ab3f0e",
   "metadata": {},
   "outputs": [],
   "source": [
    "# To check normality we can use histogram or QQplot"
   ]
  },
  {
   "cell_type": "code",
   "execution_count": null,
   "id": "77db3a6d-86f3-4147-94f2-5a56cd5f2385",
   "metadata": {},
   "outputs": [],
   "source": [
    "from statsmodels.graphics.gofplots import qqplot\n",
    "# Data subsets\n",
    "wrkday = data[data['workingday'] == 0]['count'].values\n",
    "nwrkday = data[data['workingday'] == 1]['count'].values\n",
    "\n",
    "# Create subplots\n",
    "fig, axes = plt.subplots(1, 2, figsize=(10, 4))\n",
    "\n",
    "# Q-Q plot for working day = 0\n",
    "qqplot(wrkday, line='s', ax=axes[0])\n",
    "axes[0].set_title(\"Q-Q Plot: Non-Working Day\")\n",
    "\n",
    "# Q-Q plot for working day = 1\n",
    "qqplot(nwrkday, line='s', ax=axes[1])\n",
    "axes[1].set_title(\"Q-Q Plot: Working Day\")\n",
    "\n",
    "# Show plots\n",
    "plt.tight_layout()\n",
    "plt.show()\n"
   ]
  },
  {
   "cell_type": "code",
   "execution_count": null,
   "id": "06b34ced-f721-456a-8af5-a985e2ab1d9f",
   "metadata": {},
   "outputs": [],
   "source": [
    "plt.figure(figsize=(15,4))\n",
    "\n",
    "#histogram for working day sample\n",
    "plt.subplot(1,2,1)\n",
    "sns.histplot(workingday_sample,kde=True,color='mediumseagreen')\n",
    "plt.title('Working Day')\n",
    "\n",
    "#histogram for non working day sample\n",
    "plt.subplot(1,2,2)\n",
    "sns.histplot(nonworkingday_sample,kde=True,color='mediumseagreen')\n",
    "plt.title('Non working day')\n",
    "\n",
    "plt.suptitle('Distribution of number of rented bikes')\n",
    "plt.show()"
   ]
  },
  {
   "cell_type": "markdown",
   "id": "af328138-8f9f-4ff9-bed8-3de6d1c7307e",
   "metadata": {},
   "source": [
    "**Inference:**\n",
    "\n",
    "* The counts of rented cycles on both working and non-working days do not follow a normal distribution.\n",
    "* We can try to convert the distribution to normal by applying log transformation"
   ]
  },
  {
   "cell_type": "code",
   "execution_count": null,
   "id": "a8c6cfb9-0f52-47e3-8cb5-04fd613e5192",
   "metadata": {},
   "outputs": [],
   "source": [
    "#Converting the sample distribution to normal using log transformation method:\n",
    "plt.figure(figsize=(15,4))\n",
    "\n",
    "#histogram for working day sample\n",
    "plt.subplot(1,2,1)\n",
    "sns.histplot(np.log(workingday_sample),kde = True,color ='mediumseagreen')\n",
    "plt.title('Working day')\n",
    "\n",
    "#histogram for non working day sample\n",
    "plt.subplot(1,2,2)\n",
    "sns.histplot(np.log(nonworkingday_sample),kde=True,color='mediumseagreen')\n",
    "plt.title('Non working day')\n",
    "\n",
    "plt.suptitle('Distribution of number of rented bikes')\n",
    "plt.show()"
   ]
  },
  {
   "cell_type": "markdown",
   "id": "bc198a08-7157-4a49-9b43-618a075e40c2",
   "metadata": {},
   "source": [
    "**Inference:** \n",
    "* After implementing a log transformation on our continuous variables, we have observed that there is a substantial improvement in achieving a distribution that closely resembles a normality curve for both the workingday_sample and nonworkingday_sample."
   ]
  },
  {
   "cell_type": "markdown",
   "id": "a5991969-0060-47ff-9a90-0172883d2703",
   "metadata": {},
   "source": [
    "### **We will now conduct the Wilk-Shapiro Test to assess the normality of the log-normal distribution obtained in the previous step**\n",
    "\n",
    "### Performing the Wilk-Shapiro test for the workingday sample\n",
    "\n",
    "lets assume the signifiance level to be 5% and the null and alternate hypothesis is as follows:\n",
    "\n",
    "**H0 : The Working day samples are normally distributed**\n",
    "\n",
    "**Ha: The Working day samples are not normally distributed**"
   ]
  },
  {
   "cell_type": "code",
   "execution_count": null,
   "id": "8eb5788c-0451-4810-b650-53ee1c70d36c",
   "metadata": {},
   "outputs": [],
   "source": [
    "test_stat, p_value = shapiro(np.log(workingday_sample))\n",
    "print(\"test stat :\",test_stat)\n",
    "print(\"p value :\", p_value)\n",
    "alpha = 0.05 # Significance level\n",
    "if p_value < alpha:\n",
    " print(\"Interpretation: Reject Ho: The working day samples are not normally distributed.\")\n",
    "else:\n",
    " print(\"Interpretation: Fail to Reject Ho: The working day samples are normally distributed\")"
   ]
  },
  {
   "cell_type": "markdown",
   "id": "1460b8f4-61fd-41a5-8e7e-13e5486a4476",
   "metadata": {},
   "source": [
    "### Performing the Wilk-Shapiro test for the non-working day sample\n",
    "\n",
    "We select the level of signifiance as 5% and the null and alternate hypothesis is as follows:\n",
    "\n",
    "**H0 : The non working day samples are normally distributed.**\n",
    "\n",
    "**Ha: The non working day samples are not normally distributed.**"
   ]
  },
  {
   "cell_type": "code",
   "execution_count": null,
   "id": "1c524ffe-bc56-40d6-a3db-cabc8f161956",
   "metadata": {},
   "outputs": [],
   "source": [
    "test_stat, p_value = shapiro(np.log(nonworkingday_sample))\n",
    "print(\"test stat :\",test_stat)\n",
    "print(\"p value :\", p_value)\n",
    "alpha = 0.05 # Significance level\n",
    "if p_value < alpha:\n",
    " print(\"Interpretation: Reject Ho: The Non-working day samples are not normally distributed.\")\n",
    "else:\n",
    " print(\"Interpretation: Fail to Reject Ho: The Non-working day samples are normally distributed\")"
   ]
  },
  {
   "cell_type": "markdown",
   "id": "df56b47c-21a5-4665-a877-48ea83637f17",
   "metadata": {},
   "source": [
    "**Inference:**\n",
    "**Working day**\n",
    "* From the above output, we see that the p value is far less than 0.05, Hence we reject the null hypothesis.\n",
    "* We have sufficient evidence to say that the working day sample data does not come from normal distribution.\n",
    " \n",
    "**Non- Working day**\n",
    "* From the above output, we see that the p value is far less than 0.05, Hence we reject the null hypothesis.\n",
    "* We have sufficient evidence to say that the non working day sample data does not come from normal distribution."
   ]
  },
  {
   "cell_type": "markdown",
   "id": "3ccfd61a-b736-47a9-9075-09a27718563a",
   "metadata": {},
   "source": [
    "### **Homegenity of Variance test : Levene's Test**\n",
    "We select the level of signifiance as 5% and the null and alternate hypothesis is as follows:\n",
    "\n",
    "**H0 : Variance is equal in both working day count and non working day count samples**\n",
    "\n",
    "**Ha: Variances is not equal**"
   ]
  },
  {
   "cell_type": "code",
   "execution_count": null,
   "id": "c541600e-1549-4e65-ab28-11c234db5d63",
   "metadata": {},
   "outputs": [],
   "source": [
    "test_stat,p_value = levene(np.log(workingday_sample),np.log(nonworkingday_sample))\n",
    "print(\"test stat :\",test_stat)\n",
    "print(\"p value :\",p_value)\n",
    "alpha = 0.05\n",
    "if p_value< alpha:\n",
    " print(\"Interpretation: Reject Ho that Variance is not equal \")\n",
    "else:\n",
    " print(\"Interpretation: Fail to Reject Ho that Variance is equal in both working day count and non working day count samples\")"
   ]
  },
  {
   "cell_type": "markdown",
   "id": "c66bde59-1809-4e37-aeaa-75e2f41cd5fe",
   "metadata": {},
   "source": [
    "**Inference:**\n",
    "\n",
    "* Since pvalue is not less than 0.05, we fail to reject null hypothesis(Accept the Null Hypothesis).\n",
    "* So it means that we do not have sufficient evidence to say that variance across workingday count and non workingday count is significantly different thus making the assumption of homogenity of variances true"
   ]
  },
  {
   "cell_type": "markdown",
   "id": "db196c11-9da9-408e-a359-74917ab5ed0e",
   "metadata": {},
   "source": [
    "## TTEST ASSUMPTION CONCLUSION:\n",
    "\n",
    "* 3 out of 4 assumptions for T test has been satified.\n",
    "* Although the sample distribution did not meet the criteria of passing the normality test, we proceed with the T-test as per the given instructions."
   ]
  },
  {
   "cell_type": "markdown",
   "id": "da64b24a-7720-4ca7-bb72-4683d995172f",
   "metadata": {},
   "source": [
    "### For T-Test we select the level of signifiance as 5% and the null and alternate hypothesis Framework are defined as follows:\n",
    "\n",
    "**H0 : Working day does not have an effect on number of cycles rented**\n",
    "\n",
    "**Ha: Working day does have an effect on number of cycles rented**"
   ]
  },
  {
   "cell_type": "code",
   "execution_count": null,
   "id": "65bc5642-98ac-4d14-bd62-fc612325750b",
   "metadata": {},
   "outputs": [],
   "source": [
    "t_stat,p_value = ttest_ind(np.log(workingday_sample), np.log(nonworkingday_sample),equal_var=True)\n",
    "print(\"f stat :\", t_stat)\n",
    "print(\"p value :\", p_value)\n",
    "alpha = 0.05\n",
    "if p_value< alpha:\n",
    " print(\"Reject Ho: Working day does have an effect on number of cycles rented \")\n",
    "else:\n",
    " print(\"Fail to Reject Ho: Working day does not have an effect on number of cycles rented\")"
   ]
  },
  {
   "cell_type": "markdown",
   "id": "ecbe87a1-aee5-4033-be51-22baca737f6a",
   "metadata": {},
   "source": [
    "**Final Conclusion:**\n",
    "\n",
    "* Since the p-value of our test is greater than alpha which is 0.05, we fail to reject the null hypothesis.\n",
    "* We do not have sufficient evidence to conclude that working days have a significant effect on the number of cycles rented.\n",
    "This suggests that there is no significant difference in the number of cycles rented on working days versus non-working days."
   ]
  },
  {
   "cell_type": "markdown",
   "id": "9005a83b-621f-48de-a946-c959a773c75e",
   "metadata": {},
   "source": [
    ">## Are number of cycles rented similar or different in different season ?\n",
    "\n",
    "**To perform such an analyis, we will use ANNOVA test.**\n",
    "\n",
    "* ANNOVA, which stands for Analysis of Variance, is a statistical technique used to assess whether there is a statistically significant difference among the means of two or more categorical groups.\n",
    "* It achieves this by testing for variations in means by examining the variance within and between these groups.\n",
    "* Here we have 4 different seasons namely spring,summer,fall & winter.\n",
    "* With the help of Annova test, we can find out if the different seasons have same or different effect amongst the number of cycles rented.\n",
    "\n",
    "**Determine the Null and Alternative Hypotheses**\n",
    "* We shall setup the Null and Alternate Hypothesis to check if there is any effect of season on the number of cycles rented.\n",
    "\n",
    "**H0: All the 4 different seasons have equal means.**\n",
    "\n",
    "**Ha: There is atleast one season that differs significantly from the overall mean of dependent variable.**\n",
    "\n",
    "**Assumptions for ANOVA Test**\n",
    "* To implement the One-way ANOVA test, we need to make sure that they are satisfying certain conditions:\n",
    "\n",
    "- Data should be normally distributed (i.e, Gaussian)\n",
    "\n",
    "- Data should be independent across each record\n",
    "\n",
    "- Equal variance in different groups"
   ]
  },
  {
   "cell_type": "code",
   "execution_count": null,
   "id": "98a71132-f935-414b-be50-40f16c6ea3d0",
   "metadata": {},
   "outputs": [],
   "source": [
    "data.season.value_counts()"
   ]
  },
  {
   "cell_type": "code",
   "execution_count": null,
   "id": "a0aa9b1d-002c-4436-acac-94c96c90764a",
   "metadata": {},
   "outputs": [],
   "source": [
    "winter_sample = data[data['season']=='winter']['count'].sample(500)\n",
    "fall_sample = data[data['season']=='fall']['count'].sample(500)\n",
    "summer_sample = data[data['season']=='summer']['count'].sample(500)\n",
    "spring_sample = data[data['season']=='spring']['count'].sample(500)"
   ]
  },
  {
   "cell_type": "markdown",
   "id": "307c987f-3cd3-43b6-aaa9-f875c8d7d7fc",
   "metadata": {},
   "source": [
    "### To check the Normality we can use histogram"
   ]
  },
  {
   "cell_type": "code",
   "execution_count": null,
   "id": "19636c2b-190f-425b-ba87-c4e813c791ba",
   "metadata": {},
   "outputs": [],
   "source": [
    "plt.figure(figsize=(20,10))\n",
    "\n",
    "#histogram for winter season \n",
    "plt.subplot(2,2,1)\n",
    "sns.histplot(winter_sample, kde=True, color='cornflowerblue')\n",
    "plt.title('Winter Season')\n",
    "\n",
    "#histogram for fall season \n",
    "plt.subplot(2,2,2)\n",
    "sns.histplot(fall_sample,kde=True,color='hotpink')\n",
    "plt.title('Fall Season')\n",
    "\n",
    "#histogram for summer season \n",
    "plt.subplot(2,2,3)\n",
    "sns.histplot(summer_sample,kde=True,color='goldenrod')\n",
    "plt.title('Summer Season')\n",
    "\n",
    "#histogram for spring season \n",
    "plt.subplot(2,2,4)\n",
    "sns.histplot(spring_sample,kde=True,color='forestgreen')\n",
    "plt.title('Spring Season')\n",
    "\n",
    "plt.suptitle('Distribution of number of rented bikes across different seasons',fontname='Franklin Gothic Medium', fontsize=15)\n",
    "plt.show()"
   ]
  },
  {
   "cell_type": "markdown",
   "id": "cb1b7e5e-0e78-4843-b382-e9274a75051a",
   "metadata": {},
   "source": [
    "**Inference:**\n",
    "\n",
    "* We see that none of the graphs are normally distributed. Hence we apply log transformation to make these distributions near to normal\n",
    "\n"
   ]
  },
  {
   "cell_type": "code",
   "execution_count": null,
   "id": "fc7038de-ebfb-415a-8eec-574733d4952e",
   "metadata": {},
   "outputs": [],
   "source": [
    "log_winter = np.log(winter_sample)\n",
    "log_fall = np.log(fall_sample)\n",
    "log_summer = np.log(summer_sample)\n",
    "log_spring=np.log(spring_sample)"
   ]
  },
  {
   "cell_type": "code",
   "execution_count": null,
   "id": "361440d8-19a1-4d42-a937-37e12a3f951e",
   "metadata": {},
   "outputs": [],
   "source": [
    "plt.figure(figsize=(20,10))\n",
    "\n",
    "#histogram for winter season \n",
    "plt.subplot(2,2,1)\n",
    "sns.histplot(log_winter, kde=True, color='cornflowerblue')\n",
    "plt.title('Winter Season')\n",
    "\n",
    "#histogram for fall season \n",
    "plt.subplot(2,2,2)\n",
    "sns.histplot(log_fall,kde=True,color='hotpink')\n",
    "plt.title('Fall Season')\n",
    "\n",
    "#histogram for summer season \n",
    "plt.subplot(2,2,3)\n",
    "sns.histplot(log_summer,kde=True,color='goldenrod')\n",
    "plt.title('Summer Season')\n",
    "\n",
    "#histogram for spring season \n",
    "plt.subplot(2,2,4)\n",
    "sns.histplot(log_spring,kde=True,color='forestgreen')\n",
    "plt.title('Spring Season')\n",
    "\n",
    "plt.suptitle('Distribution of number of rented bikes across different seasons',fontname='Franklin Gothic Medium', fontsize=15)\n",
    "plt.show()"
   ]
  },
  {
   "cell_type": "markdown",
   "id": "73ff645d-653e-4302-8cd5-1da615527711",
   "metadata": {},
   "source": [
    "**Inference:**\n",
    "\n",
    "* After applying a log transformation to the samples of each season, it can be inferred that a significant improvement was observed in achieving data distributions that closely resemble normality for each of the seasons.\n",
    "* We will now conduct the Shapiro-Wilk Test to assess the normality of the log-normal distribution obtained in the previous step"
   ]
  },
  {
   "cell_type": "code",
   "execution_count": null,
   "id": "bc005524-db5a-4d8e-b0e0-91db360913af",
   "metadata": {},
   "outputs": [],
   "source": [
    "# conduct the Shapiro-Wilk Test to assess the normality of the log-normal distribution obtained in the previous step"
   ]
  },
  {
   "cell_type": "markdown",
   "id": "7e7c8f42-f3e6-49b2-8495-7e5a60870e51",
   "metadata": {},
   "source": [
    "* ### Shapiro-Wilk Test for winter, fall,summer and spring season sample data\n",
    "\n",
    "We select the level of signifiance as 5% and the null and alternate hypothesis is as follows:\n",
    "\n",
    "**H0 : The sample follows a normal distribution**\n",
    "\n",
    "**Ha: The sample does not follow a normal distribution**"
   ]
  },
  {
   "cell_type": "code",
   "execution_count": null,
   "id": "0f2ed3d5-accd-4169-855f-5a5ca6cc4134",
   "metadata": {},
   "outputs": [],
   "source": [
    "test_stat,p_value= shapiro(log_winter)\n",
    "print(\"test stat :\",test_stat)\n",
    "print(\"p value :\",p_value)\n",
    "alpha = 0.05\n",
    "if p_value< alpha:\n",
    " print(\"Reject Ho: The sample does not follow a normal distribution\")\n",
    "else:\n",
    " print(\"Fail to Reject Ho:The sample follows a normal distribution\")\n",
    "    \n",
    "print('-'*50)\n",
    "\n",
    "test_stat,p_value= shapiro(log_fall)\n",
    "print(\"test stat :\",test_stat)\n",
    "print(\"p value :\",p_value)\n",
    "alpha = 0.05\n",
    "if p_value< alpha:\n",
    " print(\"Reject Ho: The sample does not follow a normal distribution\")\n",
    "else:\n",
    " print(\"Fail to Reject Ho:The sample follows a normal distribution\")\n",
    "    \n",
    "print('-'*50)\n",
    "\n",
    "test_stat,p_value= shapiro(log_summer)\n",
    "print(\"test stat :\",test_stat)\n",
    "print(\"p value :\",p_value)\n",
    "alpha = 0.05\n",
    "if p_value< alpha:\n",
    " print(\"Reject Ho: The sample does not follow a normal distribution\")\n",
    "else:\n",
    " print(\"Fail to Reject Ho:The sample follows a normal distribution\")\n",
    "        \n",
    "print('-'*50)\n",
    "\n",
    "test_stat,p_value= shapiro(log_spring)\n",
    "print(\"test stat :\",test_stat)\n",
    "print(\"p value :\",p_value)\n",
    "alpha = 0.05\n",
    "if p_value< alpha:\n",
    " print(\"Reject Ho: The sample does not follow a normal distribution\")\n",
    "else:\n",
    " print(\"Fail to Reject Ho:The sample follows a normal distribution\")"
   ]
  },
  {
   "cell_type": "markdown",
   "id": "57e0c322-4660-42f4-a7bc-a9d9a0818ba7",
   "metadata": {},
   "source": [
    "**Inference:**\n",
    "\n",
    "* Even after applying the log transformation, the sample does not conform to a normal distribution, as demonstrated by the Shapiro-Wilk test."
   ]
  },
  {
   "cell_type": "markdown",
   "id": "f77c0071-2e11-4cf4-9375-7a7e4b88a16f",
   "metadata": {},
   "source": [
    "### Homegenity of Variance test : Levene's Test¶\n",
    "We select the level of signifiance as 5% and the null and alternate hypothesis is as follows:\n",
    "\n",
    "**H0 : The variance is equal across all groups**\n",
    "\n",
    "**Ha : The variance is not equal across the groups**"
   ]
  },
  {
   "cell_type": "code",
   "execution_count": null,
   "id": "9a536720-e8dc-4d95-846f-b5a1db57667c",
   "metadata": {},
   "outputs": [],
   "source": [
    "test_stat,p_value= levene(log_winter, log_fall, log_summer, log_spring, center = 'median')\n",
    "print(\"test stat :\",test_stat)\n",
    "print(\"p value :\", p_value)\n",
    "alpha = 0.05\n",
    "if p_value< alpha:\n",
    " print(\"Reject Ho: Variance is not equal across the groups \")\n",
    "else:\n",
    " print(\"Fail to Reject Ho: Variance is equal across all groups\")"
   ]
  },
  {
   "cell_type": "markdown",
   "id": "6082322e-8a1a-4c4d-9cc4-f95499b7d8be",
   "metadata": {},
   "source": [
    "Inference:\n",
    "\n",
    "* Since pvalue is less than 0.05, we reject the null hypothesis.\n",
    "* It means that we do not have sufficient evidence to claim a significant difference in variance across the different seasons.\n",
    "* Therefore, the assumption of homogeneity of variances can be considered invalid as it requied to be equal."
   ]
  },
  {
   "cell_type": "markdown",
   "id": "d889f1fe-7e8a-4464-ae94-ddec11e61318",
   "metadata": {},
   "source": [
    "**ANOVA Test and Final Conclusion**\n",
    "* 1 out of 3 assumptions for ANOVA test have been satisfied.\n",
    "\n",
    "* We continue to do the test since.\n",
    "\n",
    "For ANOVA Test we select the level of signifiance as 5% and the null and alternate hypothesis is as follows:\n",
    "\n",
    "**H0 : The mean number of cycles rented is the same across different seasons**\n",
    "\n",
    "**Ha: At least one season has a mean number of cycles rented that is significantly different from the others.**"
   ]
  },
  {
   "cell_type": "code",
   "execution_count": null,
   "id": "9ab0a226-f20b-4366-a9ca-2e64177182d2",
   "metadata": {},
   "outputs": [],
   "source": [
    "f_stat,p_value= f_oneway(log_winter,log_fall, log_summer,log_spring)\n",
    "print(\"f stat :\",f_stat)\n",
    "print(\"p value :\",p_value)\n",
    "alpha = 0.05\n",
    "if p_value< alpha:\n",
    " print(\"Reject Ho: At least one season has a mean number of cycles rented that is significantly different from the others.\")\n",
    "else:\n",
    " print(\"Fail to Reject Ho: The mean number of cycles rented is the same across different seasons \")"
   ]
  },
  {
   "cell_type": "markdown",
   "id": "13a15d0c-cf6f-49a7-b9cc-21b041f823f9",
   "metadata": {},
   "source": [
    "**Conclusion:**\n",
    "\n",
    "* Since the p-value obtained from our test is less than the predetermined alpha level of 0.05, we have sufficient evidence to reject the null hypothesis for this test.\n",
    "* Indeed, this implies that we have gathered enough evidence to conclude that there is a significant difference in the mean number of cycles rented across all seasons."
   ]
  },
  {
   "cell_type": "markdown",
   "id": "c56ad089-791f-441c-853f-391d259bf0f2",
   "metadata": {},
   "source": [
    "> ## Are number of cycles rented similar or different in different weather conditions?¶\n",
    "\n",
    "* To perform such an analyis, we use ANNOVA test:\n",
    "\n",
    "* ANNOVA, which stands for Analysis of Variance, is a statistical technique used to assess whether there is a statistically significant difference among the means of two or more categorical groups. \n",
    "* It achieves this by testing for variations in means by examining the variance within and between these groups.\n",
    "\n",
    "We have to check if there is any significant difference in the number of bikes rented across different weather conditions. To analyse this, we use Annova test.\n",
    "\n",
    "*  To implement the One-way ANOVA test, we need to make sure that they are satisfying certain conditions:\n",
    "### Assumption of ANOVA test:\n",
    "* Data should be normally distributed (i.e, Gaussian)\n",
    "\n",
    "* Data should be independent across each record\n",
    "\n",
    "* Equal variance in different groups"
   ]
  },
  {
   "cell_type": "code",
   "execution_count": null,
   "id": "4432f8a5-6f55-45ca-8ce8-05f4144ab5a3",
   "metadata": {},
   "outputs": [],
   "source": [
    "data['weather'].value_counts()"
   ]
  },
  {
   "cell_type": "markdown",
   "id": "3ec5ca28-4186-4760-8494-31dc3743d3ea",
   "metadata": {},
   "source": [
    "* The 4 different weather conditions are as follows:\n",
    "\n",
    "Clear, Few clouds, partly cloudy, partly cloudy\n",
    "Mist + Cloudy, Mist + Broken clouds, Mist + Few clouds, Mist\n",
    "Light Snow, Light Rain + Thunderstorm + Scattered clouds, Light Rain + Scattered clouds\n",
    "Heavy Rain + Ice Pallets + Thunderstorm + Mist, Snow + Fog\n",
    "\n",
    "### Formulate null and alternative hypotheses:\n",
    "We shall setup the Null and Alternate Hypothesis to check if there is any effect of weather on the number of cycles rented.\n",
    "\n",
    "**H0 : The mean number of cycles rented is the same across all three different weather types.**\n",
    "\n",
    "**Ha : There is at least one weather type with a mean number of cycles rented that significantly differs from the overall mean of the dependent variable.**"
   ]
  },
  {
   "cell_type": "code",
   "execution_count": null,
   "id": "5656428f-a0d4-4274-bc4b-7c6a7a100bc9",
   "metadata": {},
   "outputs": [],
   "source": [
    "# Generate a sample of 500 data points for each weather condition:\n",
    "sample_1 = data[data['weather']==1]['count'].sample(500)\n",
    "sample_2 = data[data['weather']==2]['count'].sample(500)\n",
    "sample_3 = data[data['weather']==3]['count'].sample(500)"
   ]
  },
  {
   "cell_type": "markdown",
   "id": "f25bde22-0790-444c-bf52-871e3a75f1cf",
   "metadata": {},
   "source": [
    "### To check the assumption 1(Normality) we use histogram"
   ]
  },
  {
   "cell_type": "code",
   "execution_count": null,
   "id": "48fa4ff1-1510-44ad-a369-e409c9560abf",
   "metadata": {},
   "outputs": [],
   "source": [
    "plt.figure(figsize=(20,5))\n",
    "\n",
    "#histogram for weather condition 1\n",
    "plt.subplot(1,3,1)\n",
    "sns.histplot(sample_1,kde = True,color='mediumseagreen')\n",
    "plt.title('Weather type 1')\n",
    "\n",
    "#histogram for weather condition 2 \n",
    "plt.subplot(1,3,2)\n",
    "sns.histplot(sample_2,kde=True,color='mediumseagreen')\n",
    "plt.title('Weather type 2')\n",
    "\n",
    "#histogram for weather condition 3 \n",
    "plt.subplot(1,3,3)\n",
    "sns.histplot(sample_3,kde=True,color='mediumseagreen')\n",
    "plt.title('Weather type 3')\n",
    "\n",
    "plt.suptitle('Distribution of number of rented bikes across different weather types',fontname='Franklin Gothic Medium', fontsize=15)\n",
    "plt.show()"
   ]
  },
  {
   "cell_type": "markdown",
   "id": "a25c0e16-f9ac-421e-b22e-f4600e049f7a",
   "metadata": {},
   "source": [
    "Inference:\n",
    "\n",
    "We see that none of the graphs are normally distributed. Hence we apply log transformation to make these distributions near to normal"
   ]
  },
  {
   "cell_type": "code",
   "execution_count": null,
   "id": "c94d5ed8-34f1-4e13-a822-2774c9fadef8",
   "metadata": {},
   "outputs": [],
   "source": [
    "# Converting sample distribution to normal by applying log transformation\n",
    "\n",
    "log_1 = np.log(sample_1)\n",
    "log_2 = np.log(sample_2)\n",
    "log_3 = np.log(sample_3)"
   ]
  },
  {
   "cell_type": "code",
   "execution_count": null,
   "id": "3fc74705-d864-4683-aa85-954a3f5a4fdd",
   "metadata": {},
   "outputs": [],
   "source": [
    "plt.figure(figsize=(20,5))\n",
    "\n",
    "#histogram for weather condition 1\n",
    "plt.subplot(1,3,1)\n",
    "sns.histplot(log_1,kde = True,color='khaki')\n",
    "plt.title('Weather type 1')\n",
    "\n",
    "#histogram for weather condition 2 \n",
    "plt.subplot(1,3,2)\n",
    "sns.histplot(log_2, kde=True,color='khaki')\n",
    "plt.title('Weather type 2')\n",
    "\n",
    "#histogram for weather condition 3 \n",
    "plt.subplot(1,3,3)\n",
    "sns.histplot(log_3,kde=True,color='khaki')\n",
    "plt.title('Weather type 3')\n",
    "\n",
    "plt.suptitle('Distribution of number of rented bikes across different weather types',fontname='Franklin Gothic Medium', fontsize=15)\n",
    "plt.show()"
   ]
  },
  {
   "cell_type": "markdown",
   "id": "10ca4bf6-cf33-41ed-b9c8-0a88699a9381",
   "metadata": {},
   "source": [
    "Inference:\n",
    "\n",
    "After using a log transformation on the data for each weather type, we noticed a substantial improvement in making the data look more like a normal distribution."
   ]
  },
  {
   "cell_type": "markdown",
   "id": "3879b7dd-b456-49cd-874c-b29538eba4cd",
   "metadata": {},
   "source": [
    "We will now conduct the **Shapiro-Wilk Test** to assess the normality of the log-normal distribution obtained in the previous step\n",
    "\n",
    "### Shapiro-Wilk Test for weather type 1, 2 and 3 sample data:\n",
    "\n",
    "We select the level of signifiance as 5% and the null and alternate hypothesis is as follows:\n",
    "\n",
    "**H0 : The sample follows a normal distribution**\n",
    "\n",
    "**Ha: The sample does not follow a normal distribution**"
   ]
  },
  {
   "cell_type": "code",
   "execution_count": null,
   "id": "b505a7cd-204d-4457-bf49-93f567c797d8",
   "metadata": {},
   "outputs": [],
   "source": [
    "print('---------Weather Type 1---------')\n",
    "test_stat,p_value= shapiro(log_1)\n",
    "print(\"test stat :\",test_stat)\n",
    "print(\"p value :\",p_value)\n",
    "alpha = 0.05\n",
    "if p_value< alpha:\n",
    " print(\"Reject Ho: The sample does not follow a normal distribution\")\n",
    "else:\n",
    " print(\"Fail to Reject Ho:The sample follows a normal distribution\")\n",
    "    \n",
    "print('---------Weather Type 2---------')\n",
    "test_stat,p_value= shapiro(log_1)\n",
    "print(\"test stat :\",test_stat)\n",
    "print(\"p value :\",p_value)\n",
    "alpha = 0.05\n",
    "if p_value< alpha:\n",
    " print(\"Reject Ho: The sample does not follow a normal distribution\")\n",
    "else:\n",
    " print(\"Fail to Reject Ho:The sample follows a normal distribution\")\n",
    "    \n",
    "print('---------Weather Type 2---------')\n",
    "test_stat,p_value= shapiro(log_1)\n",
    "print(\"test stat :\",test_stat)\n",
    "print(\"p value :\",p_value)\n",
    "alpha = 0.05\n",
    "if p_value< alpha:\n",
    " print(\"Reject Ho: The sample does not follow a normal distribution\")\n",
    "else:\n",
    " print(\"Fail to Reject Ho:The sample follows a normal distribution\")"
   ]
  },
  {
   "cell_type": "markdown",
   "id": "b58fb2b4-407f-4282-b41b-056cfd2cb3f3",
   "metadata": {},
   "source": [
    "**Inference:**\n",
    "* So Even after applying the log transformation, the sample does not align to be normal distribution, as observed by the Shapiro-Wilk test.\n",
    "\n",
    "**Final Conclusion:**\n",
    "\n",
    "* None of the weather type samples adhere to a normal distribution even after applying the log-normal transformation, indicating that the normality assumption of the ANOVA test is does not met."
   ]
  },
  {
   "cell_type": "markdown",
   "id": "6d747742-2e2a-4c95-a836-7c6b666e84bf",
   "metadata": {},
   "source": [
    "### Homegenity of Variance test : Levene's Test (Assumption 2)\n",
    "\n",
    "We select the level of signifiance as 5% and the null and alternate hypothesis is as follows:\n",
    "\n",
    "**H0 : The variance is equal across all groups**\n",
    "\n",
    "**Ha : The variance is not equal across the groups**"
   ]
  },
  {
   "cell_type": "code",
   "execution_count": null,
   "id": "c0150464-eed2-4e56-befa-ba8f0ebf5998",
   "metadata": {},
   "outputs": [],
   "source": [
    "test_stat, p_value = levene(log_1,log_2,log_3)\n",
    "print('test_stat:',test_stat)\n",
    "print('p_value:',p_value)\n",
    "alpha = 0.05\n",
    "if p_value < alpha:\n",
    "    print('Reject H0, The variance is not equal across the groups')\n",
    "else:\n",
    "    print('Fail to Reject H0, The variance is equal across all the groups')"
   ]
  },
  {
   "cell_type": "markdown",
   "id": "d26e9b00-d8b9-49dd-89c5-5baba6d2f180",
   "metadata": {},
   "source": [
    "**Inference:**\n",
    "\n",
    "* Since pvalue is not less than 0.05(its greater than 0.05), we fail to reject the null hypothesis.\n",
    "* This means that we do not have any sufficient evidence to claim that there is significant difference in variance across the different weather types.\n",
    "* Therefore, the assumption of homogeneity of variances can be considered valid."
   ]
  },
  {
   "cell_type": "markdown",
   "id": "d1224cd4-90a4-4002-b39c-c96f9de12fe1",
   "metadata": {},
   "source": [
    "### Implement ANOVA Test: \n",
    "* so 2 out of 3 assumptions for ANOVA test have been satisfied. We continue to do the test since we have been instructed to do so.\n",
    "\n",
    "* For ANOVA Test we select the level of signifiance as 5% and the null and alternate hypothesis is as follows:\n",
    "\n",
    "**H0 : The mean number of cycles rented is equal across different weather conditions.**\n",
    "\n",
    "**Ha: There is at least one weather condition with a mean number of cycles rented that significantly differs from the others.**"
   ]
  },
  {
   "cell_type": "code",
   "execution_count": null,
   "id": "42506012-5022-431f-9ec2-2b189e5758a8",
   "metadata": {},
   "outputs": [],
   "source": [
    "f_stat,p_value = f_oneway(log_winter,log_fall, log_summer,log_spring)\n",
    "print(\"test stat :\",f_stat)\n",
    "print(\"p value :\",p_value)\n",
    "alpha = 0.05\n",
    "if p_value< alpha:\n",
    " print(\"Reject Ho: There is at least one weather condition with a mean number of cycles rented that significantly differs from the others \")\n",
    "else:\n",
    " print(\"Fail to Reject Ho: The mean number of cycles rented is equal across different weather conditions\")"
   ]
  },
  {
   "cell_type": "markdown",
   "id": "33ca76fd-aba0-4326-a4db-01424e6ee7d6",
   "metadata": {},
   "source": [
    "**Final Conclusion:**\n",
    "\n",
    "* Since the p-value obtained from our test is less than the predetermined alpha level of 0.05, we have sufficient evidence to reject the null hypothesis for this test.\n",
    "* Indeed, this indicates that we have collected sufficient evidence to conclude that there is a significant difference in the mean number of cycles rented across all weather conditions.\n",
    "* **Additionally, this suggests that weather conditions do have a notable effect on the number of cycles rented.**"
   ]
  },
  {
   "cell_type": "markdown",
   "id": "470df876-8a87-47d0-898e-b6c48db32e96",
   "metadata": {},
   "source": [
    "> ## Is weather type dependent on the season?\n",
    "\n",
    "* So to perform such an analysis we have to perform Chi square test.\n",
    "\n",
    "**A Chi-Square Test of Independence is used to determine whether or not there is a significant association between two categorical variables.**\n",
    "\n",
    "* The Pearson’s Chi-Square statistical hypothesis is a test for independence between categorical variables.\n",
    "\n",
    "* Also it is important to know that Chi-Square test is non parametric test meaning that it is distribution free (need not have gaussian distribution).\n",
    "\n",
    "* ### Assumptions of Chi-Square Test\n",
    "1. Variables are categorical\n",
    "2. Observations are independent\n",
    "3. Each cell is mutually exclusive\n",
    "4. The expected value in each cell should be greater than 5.\n",
    "\n",
    "### Conclusion on Assumptions:\n",
    "* Both variables are categorical: In this dataset, season column has already been converted into categorical data and the weather column is nominal data. Hence it is safe to say that the above condition is satisfied.\n",
    "\n",
    "* All observations are independent:\n",
    "We are hoping that the sample provided by YULU has been obtained from random sampling upon which the condition is satisfied.\n",
    "\n",
    "* Cells in the contingency table are mutually exclusive:\n",
    "Assuming each individual in the dataset was only surveyed once, this assumption should be met.\n",
    "\n",
    "* Expected value of cells should be 5 or greater in at least 80% of cells and none less than 1\n",
    "We shall check for this condition after the pearson chi-square test has been completed."
   ]
  },
  {
   "cell_type": "code",
   "execution_count": null,
   "id": "b78759c3-31ca-49fc-9cea-e7b1feb9d757",
   "metadata": {},
   "outputs": [],
   "source": [
    "chi_data = pd.crosstab(data.weather, data.season)\n",
    "chi_data"
   ]
  },
  {
   "cell_type": "markdown",
   "id": "fc4959d4-7ed8-4c9a-af2b-7c055a7ad277",
   "metadata": {},
   "source": [
    "**Inference:**\n",
    "* we can observed that there is only one row in our dataset which is of weather type 4 having lack of sufficient information or data to determine if it truly correlates with the season.\n",
    "* So, to avoid potential biaseness and skewed results, it's advisable to exclude this weather type from our analysis."
   ]
  },
  {
   "cell_type": "code",
   "execution_count": null,
   "id": "fe589d44-b697-457a-938f-73aa7ea48566",
   "metadata": {},
   "outputs": [],
   "source": [
    "chi_data.index"
   ]
  },
  {
   "cell_type": "code",
   "execution_count": null,
   "id": "fbf40e7f-dc5c-4f26-a14c-6f139905b52c",
   "metadata": {},
   "outputs": [],
   "source": [
    "df_removed_weather = chi_data[~(chi_data.index == 4)]\n",
    "df_removed_weather"
   ]
  },
  {
   "cell_type": "markdown",
   "id": "3b1ada45-5da6-4cec-ab36-b69fc36239c7",
   "metadata": {},
   "source": [
    "### Implementing Chi-Square Test\n",
    "\n",
    "Lets formulate our Null and alternate Hypotheis to check if Weather is dependent on season\n",
    "\n",
    "**H0: Weather is not dependent on the season**\n",
    "**Ha: Weather is dependent on the season, meaning they are associated or related**\n",
    "\n",
    "We consider level of significance or alpha to be 0.05."
   ]
  },
  {
   "cell_type": "code",
   "execution_count": null,
   "id": "661b9ecc-9539-4568-97a6-9276f2f034e4",
   "metadata": {},
   "outputs": [],
   "source": [
    "chi2_contingency(df_removed_weather)"
   ]
  },
  {
   "cell_type": "code",
   "execution_count": null,
   "id": "4e377af0-224d-4383-bbe4-13b26eaef93f",
   "metadata": {},
   "outputs": [],
   "source": [
    "x_stat,p_value,dof,expected_freq = chi2_contingency(df_removed_weather)\n",
    "print(\"X stat :\",x_stat)\n",
    "print(\"DOF :\",dof)\n",
    "print('Expected Frequency:',expected_freq)\n",
    "print(\"p value :\",p_value)\n",
    "alpha = 0.05\n",
    "if p_value< alpha:\n",
    " print(\"Reject Ho: Weather is dependent on the season\")\n",
    "else:\n",
    " print(\"Fail to Reject Ho: Weather is not dependent on the season\")"
   ]
  },
  {
   "cell_type": "markdown",
   "id": "af790cf3-1b22-4e11-bfb2-3f144d128b53",
   "metadata": {},
   "source": [
    "**Conclusion:**\n",
    "\n",
    "* Since the p-value obtained from our test is less than the predetermined alpha level of 0.05, we have sufficient evidence to reject the our null hypothesis for this test.\n",
    "* Indeed, this suggests that we have gathered enough evidence to conclude that there is a dependence between weather and the season"
   ]
  },
  {
   "cell_type": "code",
   "execution_count": null,
   "id": "5a6cc230-e8cc-481e-a179-39940c369e82",
   "metadata": {},
   "outputs": [],
   "source": [
    "expected_freq.min()"
   ]
  },
  {
   "cell_type": "code",
   "execution_count": null,
   "id": "b2f04f9b-14e4-462f-8f96-123b4de9d0ec",
   "metadata": {},
   "outputs": [],
   "source": [
    "# Checking Cchi2_contingency assumption: The expected value in each cell should be greater than 5\n",
    "(len(expected_freq[expected_freq<5])/len(expected_freq))*100"
   ]
  },
  {
   "cell_type": "markdown",
   "id": "97c41745-351c-4fde-a942-716c904393a9",
   "metadata": {},
   "source": [
    "**Inference:**\n",
    "\n",
    "* All of the data points have expected values greater than 5, indicating that the assumption related to the expected values being greater than 5 is satisfied for the chi-square test."
   ]
  },
  {
   "cell_type": "markdown",
   "id": "239b4b72-60e2-4526-8642-6df3f698fe6c",
   "metadata": {},
   "source": [
    "# **Insights:**\n",
    "* On working days, 68.1% of cycles are rented, whereas on non-working days, 31.9% of cycles are rented.\n",
    "\n",
    "* Despite the fact that 68.1% of cycles are rented on working days compared to 31.9% on non-working days, our t-test analysis does not provide sufficient evidence to conclude that working days have a significant effect on the number of cycles rented. This finding suggests that there is no statistically significant difference in the number of cycles rented between working days and non-working days.\n",
    "\n",
    "* During the fall, summer and winter seasons approximately 25.1% of cycles were rented(respectively).\n",
    "* The lowest rental rate(In comparison with other seasons), 24.7% of cycles were rented,is observed in the spring season.\n",
    "\n",
    "* The ANOVA test results indicate a clear and statistically significant difference in the mean number of cycles rented across all seasons. This underscores the notion that the season plays a substantial role in influencing the number of bikes rented.\n",
    "\n",
    "* In Weather condition 1, they experiences the highest rental rate, with approximately 66% of cycles rented.\n",
    "* In weather condition 2, around 26.0% of cycles were rented.\n",
    "* Weather condition 3 has a rental rate of approximately 7.9 % for cycles.\n",
    "* Weather condition 4 exhibits an exceptionally low rental rate, with only 0.0% of cycles being rented(In count 1).\n",
    "\n",
    "\n",
    "* The ANOVA test results indicate a significant difference in the mean number of cycles rented across all weather conditions, which strongly suggests that weather types have a significant effect on the number of cycles rented.\n",
    "* The chi-square test results reveal a statistically significant association between weather type and the season.\n",
    "\n",
    "* The highest average count of rental bikes is observed at 5 PM, closely followed by 5 PM and 7 AM. This indicates distinct peak hours during the day when cycling is most popular.\n",
    "* Conversely, the lowest average count of rental bikes occurs at 4 AM, with 3 AM and 5 AM also showing low counts. These hours represent the early morning period with the least demand for cycling. Notably, there is an increasing trend in cycle rentals between 5 AM and 8 AM, suggesting a surge in demand during the early morning hours as people start their day.\n",
    "* Additionally, there is a decreasing trend in cycle rentals from 5 PM to 11 PM, indicating a gradual decline in demand as the day progresses into the evening and nighttime.\n",
    "\n",
    "* The highest average hourly count of rental bikes occurs in June, July, and August, reflecting the peak demand during summer season.\n",
    "* Conversely, the lowest average hourly count of rental bikes is found in January, February, and March, which are the winter months with reduced cycling activity.\n",
    "* Notably, there is an increasing trend in average bike rentals from February to June, corresponding to the shift from winter to spring and summer. \n",
    "* Conversely, a decreasing trend in average bike rentals is observed from October to December due to the onset of winter.\n"
   ]
  },
  {
   "cell_type": "markdown",
   "id": "58c9e797-4cb2-4b62-af70-7b70302692b8",
   "metadata": {},
   "source": [
    "# **RECOMMENDATIONS:**\n",
    "\n",
    "- In summer,fall,and winter seasons the company should have more bikes in stock. Because the demand in these seasons is higher than spring(but not that much lower).\n",
    "- When weather is 1 i.e Clear, Few clouds, partly cloudy, partly cloudy most of the bikes were rented.So for this weather we\n",
    "have high sales and demand whcih need not to be compromised so we need to increase the stock so that i will be available for all the\n",
    "customers.\n",
    "- Whenever temperature is less than 10 or in very cold days, company should have less bikes.\n",
    "- People love to cycle when the atemperate is between 20 to 35.\n",
    "- In very low humidity days, company should have less bikes in the stock to be rented.\n",
    "\n",
    "- Whenever the windspeed is greater than 35 or in thunderstorms, company should have less bikes in stock as it is least to be rented.\n",
    "\n",
    "- As we observe The lowest average count of rental bikes occurs from 1 am to 4 am.so we can capitalize this time for the cycle repair if needed,maintenance and the charging so to increase the operational efficiency\n",
    "- After maintenance and charging, strategically deploy bikes to high-demand areas in preparation for the morning rush.\n",
    "- Ensure that bikes are available at key locations, such as transportation hubs, offices, and residential areas.\n",
    "\n",
    "- During the seasons with adverse weather conditions, such as rain or snow, Yulu can provide weather-ready bikes equipped with features like fenders and all-weather tires or anti skid tyres.\n",
    "- This ensures that riders are comfortable and safe during inclement weather.\n"
   ]
  },
  {
   "cell_type": "code",
   "execution_count": null,
   "id": "695a4272-4cfb-4662-b41d-6dea91727c85",
   "metadata": {},
   "outputs": [],
   "source": []
  },
  {
   "cell_type": "code",
   "execution_count": null,
   "id": "a68f3580-380e-4499-8bbf-a2d39ee4a108",
   "metadata": {},
   "outputs": [],
   "source": []
  },
  {
   "cell_type": "code",
   "execution_count": null,
   "id": "054125fb-df07-411d-b324-031d0b8392f7",
   "metadata": {},
   "outputs": [],
   "source": []
  },
  {
   "cell_type": "code",
   "execution_count": null,
   "id": "03753cd2-6d9b-4e4d-89c2-73136cc4aba8",
   "metadata": {},
   "outputs": [],
   "source": []
  },
  {
   "cell_type": "code",
   "execution_count": null,
   "id": "d763a16d-bd38-46f9-849a-ba4cf6bf51eb",
   "metadata": {},
   "outputs": [],
   "source": []
  },
  {
   "cell_type": "code",
   "execution_count": null,
   "id": "4a2c1e1b-9e04-4491-a62e-1e877f45d751",
   "metadata": {},
   "outputs": [],
   "source": []
  },
  {
   "cell_type": "markdown",
   "id": "f16058de-9938-45b4-8527-b8d49b005279",
   "metadata": {},
   "source": [
    "## Q. What is the duration or time period for which the data is given ?"
   ]
  },
  {
   "cell_type": "code",
   "execution_count": null,
   "id": "ad6931e7-7554-4053-9980-a791b31c189d",
   "metadata": {},
   "outputs": [],
   "source": [
    "data.datetime.min(), data.datetime.max()"
   ]
  },
  {
   "cell_type": "code",
   "execution_count": null,
   "id": "49bb17d7-ad3b-485c-b565-826d218731f6",
   "metadata": {},
   "outputs": [],
   "source": [
    "duration = data.datetime.max() -  data.datetime.min()\n",
    "duration"
   ]
  }
 ],
 "metadata": {
  "kernelspec": {
   "display_name": "Python 3 (ipykernel)",
   "language": "python",
   "name": "python3"
  },
  "language_info": {
   "codemirror_mode": {
    "name": "ipython",
    "version": 3
   },
   "file_extension": ".py",
   "mimetype": "text/x-python",
   "name": "python",
   "nbconvert_exporter": "python",
   "pygments_lexer": "ipython3",
   "version": "3.11.1"
  }
 },
 "nbformat": 4,
 "nbformat_minor": 5
}
